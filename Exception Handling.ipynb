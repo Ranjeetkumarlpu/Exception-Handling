{
 "cells": [
  {
   "cell_type": "code",
   "execution_count": 1,
   "id": "d30ac82c",
   "metadata": {},
   "outputs": [
    {
     "data": {
      "text/plain": [
       "'C:\\\\Users\\\\ranje'"
      ]
     },
     "execution_count": 1,
     "metadata": {},
     "output_type": "execute_result"
    }
   ],
   "source": [
    "pwd()"
   ]
  },
  {
   "cell_type": "code",
   "execution_count": 2,
   "id": "c78c40c4",
   "metadata": {},
   "outputs": [
    {
     "name": "stdout",
     "output_type": "stream",
     "text": [
      " Volume in drive C has no label.\n",
      " Volume Serial Number is 52A3-CF0C\n",
      "\n",
      " Directory of C:\\Users\\ranje\n",
      "\n",
      "03-10-2021  20:15    <DIR>          .\n",
      "03-10-2021  20:15    <DIR>          ..\n",
      "08-02-2021  20:28    <DIR>          .android\n",
      "07-10-2020  18:25               145 .appletviewer\n",
      "02-06-2020  13:28    <DIR>          .bluemix\n",
      "06-05-2021  20:52    <DIR>          .cf\n",
      "06-04-2021  11:00    <DIR>          .config\n",
      "26-05-2021  20:01             1,731 .dbshell\n",
      "01-06-2021  13:58    <DIR>          .eclipse\n",
      "26-06-2020  20:14               218 .gitconfig\n",
      "11-04-2020  09:19    <DIR>          .idlerc\n",
      "03-10-2021  20:13    <DIR>          .ipynb_checkpoints\n",
      "17-08-2021  07:51    <DIR>          .ipython\n",
      "25-09-2021  08:23    <DIR>          .jupyter\n",
      "19-08-2021  20:37    <DIR>          .matplotlib\n",
      "21-08-2020  20:52                 0 .mongorc.js\n",
      "07-04-2021  19:58                36 .node_repl_history\n",
      "01-06-2021  12:01    <DIR>          .p2\n",
      "07-07-2021  20:28               168 .packettracer\n",
      "31-10-2020  20:53    <DIR>          .tooling\n",
      "25-09-2021  21:42    <DIR>          .vscode\n",
      "12-09-2021  22:12             3,310 12092021 mldl class 2.ipynb\n",
      "13-09-2021  13:27            17,853 12092021_Python_Practice_1.ipynb\n",
      "26-05-2021  22:26    <DIR>          3D Objects\n",
      "13-09-2021  20:05             5,891 Assigment Practice.ipynb\n",
      "14-09-2021  10:55             2,166 Assignment 2.ipynb\n",
      "22-09-2021  22:35             8,076 Black_Coffer_DS_Task.ipynb\n",
      "20-03-2020  13:17    <DIR>          Cisco Packet Tracer 7.2\n",
      "11-09-2021  22:37            58,159 class1_mldl_11_0009_21.ipynb\n",
      "26-05-2021  22:26    <DIR>          Contacts\n",
      "14-04-2020  12:17    <DIR>          Creative Cloud Files\n",
      "08-02-2021  20:43               298 d4ac4633ebd6440fa397b84f1bc94a3c.7z\n",
      "17-08-2021  21:07             3,302 DataAnalysisMamClass.ipynb\n",
      "19-08-2021  20:39            83,410 DataAnalysisMatplotlib Practice.ipynb\n",
      "17-08-2021  21:41            17,313 DataAnalyticsMamClass.ipynb\n",
      "17-08-2021  08:15             1,754 DemoPython.ipynb\n",
      "16-03-2020  11:56    <DIR>          Documents\n",
      "03-10-2021  19:49    <DIR>          Downloads\n",
      "01-06-2021  12:18    <DIR>          eclipse-workspace\n",
      "26-05-2021  22:26    <DIR>          Favorites\n",
      "21-10-2020  11:29    <DIR>          Google Drive\n",
      "14-09-2021  20:15            17,330 Grip Data Set.ipynb\n",
      "17-01-2021  15:22                66 inittk.ini\n",
      "18-01-2021  21:58                41 inst.ini\n",
      "14-09-2021  20:56            32,437 Linear_Regression_Grip_Task_ML.ipynb\n",
      "26-05-2021  22:26    <DIR>          Links\n",
      "17-08-2021  08:13             3,040 Metaplotlib.ipynb\n",
      "16-03-2020  11:44             1,450 Microsoft Edge.lnk\n",
      "26-05-2021  22:26    <DIR>          Music\n",
      "17-01-2021  15:21    <DIR>          Nox_share\n",
      "17-01-2021  15:20                45 nuuid.ini\n",
      "17-08-2021  08:02             1,496 OMJSGNWelcomePython.ipynb\n",
      "26-05-2021  22:19    <DIR>          OneDrive\n",
      "25-09-2021  08:32             5,422 output.xlsx\n",
      "11-09-2021  11:56    <DIR>          PycharmProjects\n",
      "01-09-2020  19:20    <DIR>          Pythan\n",
      "27-09-2021  19:52             3,459 Python Assignment 1.ipynb\n",
      "13-09-2021  20:44             2,328 Python Assignment 2 (string,object and list object).ipynb\n",
      "26-05-2021  22:26    <DIR>          Saved Games\n",
      "26-05-2021  22:26    <DIR>          Searches\n",
      "27-09-2021  21:57             8,763 Sep 25 Practice .ipynb\n",
      "28-09-2021  21:41            21,122 SEP 26 FUNCTION Prime No.ipynb\n",
      "25-09-2021  08:41            73,053 Task Final Black Coffer.ipynb\n",
      "17-08-2021  08:12                72 Untitled.ipynb\n",
      "19-08-2021  08:16               972 Untitled1.ipynb\n",
      "30-09-2021  13:22            31,073 Untitled10.ipynb\n",
      "03-10-2021  20:15               588 Untitled11.ipynb\n",
      "19-08-2021  08:51            14,860 Untitled2.ipynb\n",
      "19-08-2021  09:24             5,648 Untitled3.ipynb\n",
      "19-08-2021  18:58               588 Untitled4.ipynb\n",
      "01-09-2021  21:26               861 Untitled5.ipynb\n",
      "03-09-2021  21:12            11,066 Untitled6.ipynb\n",
      "05-09-2021  22:04               947 Untitled7.ipynb\n",
      "25-09-2021  07:35               588 Untitled8.ipynb\n",
      "28-09-2021  18:44                72 Untitled9.ipynb\n",
      "17-01-2021  15:20                53 useruid.ini\n",
      "26-05-2021  22:26    <DIR>          Videos\n",
      "08-02-2021  20:26    <DIR>          vmlogs\n",
      "              44 File(s)        441,270 bytes\n",
      "              34 Dir(s)  34,781,405,184 bytes free\n"
     ]
    }
   ],
   "source": [
    "ls"
   ]
  },
  {
   "cell_type": "code",
   "execution_count": 5,
   "id": "b55ec8ab",
   "metadata": {},
   "outputs": [
    {
     "name": "stdout",
     "output_type": "stream",
     "text": [
      "hjh\n",
      "This is my errpr\n"
     ]
    }
   ],
   "source": [
    "try :\n",
    "    a= int(input())\n",
    "    print(a/67)\n",
    "except:\n",
    "    print(\"This is my errpr\")"
   ]
  },
  {
   "cell_type": "code",
   "execution_count": null,
   "id": "cd102523",
   "metadata": {},
   "outputs": [],
   "source": []
  },
  {
   "cell_type": "code",
   "execution_count": 6,
   "id": "162ad969",
   "metadata": {},
   "outputs": [
    {
     "name": "stdout",
     "output_type": "stream",
     "text": [
      "25\n",
      "0.373134328358209\n"
     ]
    }
   ],
   "source": [
    "try :\n",
    "    a= int(input())\n",
    "    print(a/67)\n",
    "except:\n",
    "    print(\"This is my errpr\")"
   ]
  },
  {
   "cell_type": "code",
   "execution_count": null,
   "id": "cd47ac6b",
   "metadata": {},
   "outputs": [],
   "source": []
  },
  {
   "cell_type": "code",
   "execution_count": 13,
   "id": "a0034785",
   "metadata": {},
   "outputs": [
    {
     "name": "stdout",
     "output_type": "stream",
     "text": [
      "hjjg\n",
      "This is my errpr\n",
      "it will excute always\n"
     ]
    }
   ],
   "source": [
    "try :\n",
    "    a= int(input())\n",
    "    print(a/67)\n",
    "except:\n",
    "    print(\"This is my errpr\")\n",
    "else:\n",
    "    print(\"on successfull of your try block\")\n",
    "finally:\n",
    "    print(\"it will excute always\")"
   ]
  },
  {
   "cell_type": "code",
   "execution_count": null,
   "id": "c46c56fe",
   "metadata": {},
   "outputs": [],
   "source": []
  },
  {
   "cell_type": "code",
   "execution_count": 14,
   "id": "cf69370d",
   "metadata": {},
   "outputs": [
    {
     "name": "stdout",
     "output_type": "stream",
     "text": [
      "45456465465\n",
      "678454708.4328358\n",
      "on successfull of your try block\n",
      "it will excute always\n"
     ]
    }
   ],
   "source": [
    "try :\n",
    "    a= int(input())\n",
    "    print(a/67)\n",
    "except:\n",
    "    print(\"This is my errpr\")\n",
    "else:\n",
    "    print(\"on successfull of your try block\")\n",
    "finally:\n",
    "    print(\"it will excute always\")"
   ]
  },
  {
   "cell_type": "code",
   "execution_count": 18,
   "id": "d06fd884",
   "metadata": {},
   "outputs": [],
   "source": [
    "def askint():\n",
    "    try :\n",
    "        a=int(input())\n",
    "    except Eception as e:\n",
    "           askint()\n",
    "        \n",
    "       "
   ]
  },
  {
   "cell_type": "code",
   "execution_count": 20,
   "id": "abef8ff6",
   "metadata": {},
   "outputs": [
    {
     "name": "stdout",
     "output_type": "stream",
     "text": [
      "456\n"
     ]
    }
   ],
   "source": [
    "askint()"
   ]
  },
  {
   "cell_type": "code",
   "execution_count": 21,
   "id": "74547475",
   "metadata": {},
   "outputs": [
    {
     "data": {
      "text/plain": [
       "'C:\\\\Users\\\\ranje'"
      ]
     },
     "execution_count": 21,
     "metadata": {},
     "output_type": "execute_result"
    }
   ],
   "source": [
    "pwd()"
   ]
  },
  {
   "cell_type": "code",
   "execution_count": 1,
   "id": "da87906e",
   "metadata": {},
   "outputs": [],
   "source": [
    "def askint():\n",
    "    try:\n",
    "        a = int(input(\"Please enter input\"))\n",
    "        print(a//67)\n",
    "    except Exception as e:\n",
    "        askint()"
   ]
  },
  {
   "cell_type": "code",
   "execution_count": 3,
   "id": "1606e427",
   "metadata": {},
   "outputs": [
    {
     "name": "stdout",
     "output_type": "stream",
     "text": [
      "Please enter inputhghjghj\n",
      "Please enter inputjghjgj\n",
      "Please enter inputghhjgjhg\n",
      "Please enter inputgjhgj\n",
      "Please enter inputgjhgj\n",
      "Please enter inputjgjjg\n",
      "Please enter inputjgjg\n",
      "Please enter input4562\n",
      "68\n"
     ]
    }
   ],
   "source": [
    "askint()"
   ]
  },
  {
   "cell_type": "code",
   "execution_count": 4,
   "id": "1c619f81",
   "metadata": {},
   "outputs": [],
   "source": [
    "def askint():\n",
    "    try:\n",
    "        while 1:\n",
    "            val = int(input(\"Enter integer: \"))\n",
    "    except Exception as e:\n",
    "        print(e)\n",
    "    finally:\n",
    "        print(\"End of function\")"
   ]
  },
  {
   "cell_type": "code",
   "execution_count": 7,
   "id": "4c6954a7",
   "metadata": {},
   "outputs": [
    {
     "name": "stdout",
     "output_type": "stream",
     "text": [
      "Enter integer: jjkhkjh\n",
      "invalid literal for int() with base 10: 'jjkhkjh'\n",
      "End of function\n"
     ]
    }
   ],
   "source": [
    "askint()"
   ]
  },
  {
   "cell_type": "code",
   "execution_count": 1,
   "id": "a9b8bc4d",
   "metadata": {},
   "outputs": [],
   "source": [
    "def askint():\n",
    "    try:\n",
    "        \n",
    "        val = input(\"try to input integer : \")\n",
    "        if type(val) != int:\n",
    "            askint()\n",
    "    except Exception as e:\n",
    "        print(e)"
   ]
  },
  {
   "cell_type": "code",
   "execution_count": null,
   "id": "d721f99b",
   "metadata": {},
   "outputs": [
    {
     "name": "stdout",
     "output_type": "stream",
     "text": [
      "try to input integer : 456\n",
      "try to input integer : 123\n",
      "try to input integer : gfhg\n"
     ]
    }
   ],
   "source": [
    "askint()"
   ]
  },
  {
   "cell_type": "code",
   "execution_count": 1,
   "id": "2e50cb3e",
   "metadata": {},
   "outputs": [],
   "source": [
    "def askint():\n",
    "    try:\n",
    "        a = int(input(\"enter an integer\"))\n",
    "    except Exception as e :\n",
    "        askint()\n",
    "    finally:\n",
    "        print(\"this is my finally\")"
   ]
  },
  {
   "cell_type": "code",
   "execution_count": 3,
   "id": "886ebd0d",
   "metadata": {},
   "outputs": [
    {
     "name": "stdout",
     "output_type": "stream",
     "text": [
      "enter an integergdjgdj\n",
      "enter an integerhdkjhdk\n",
      "enter an integerhdkjashdk\n",
      "enter an integerdnksdk\n",
      "enter an integerdkdk\n",
      "enter an integer454654\n",
      "this is my finally\n",
      "this is my finally\n",
      "this is my finally\n",
      "this is my finally\n",
      "this is my finally\n",
      "this is my finally\n"
     ]
    }
   ],
   "source": [
    "askint()"
   ]
  },
  {
   "cell_type": "code",
   "execution_count": 6,
   "id": "4d0c242e",
   "metadata": {},
   "outputs": [],
   "source": [
    "def askInt():\n",
    "    while True:\n",
    "        try:\n",
    "            a = int(input())\n",
    "        except Exception as e:\n",
    "            print('this is error', e)\n",
    "            continue\n",
    "        else:\n",
    "            break\n",
    "        finally:\n",
    "            print('all good in finally')\n",
    "        a/10"
   ]
  },
  {
   "cell_type": "code",
   "execution_count": 8,
   "id": "e517dac0",
   "metadata": {},
   "outputs": [
    {
     "name": "stdout",
     "output_type": "stream",
     "text": [
      "HKJHKJH\n",
      "this is error invalid literal for int() with base 10: 'HKJHKJH'\n",
      "all good in finally\n",
      "HJHKH\n",
      "this is error invalid literal for int() with base 10: 'HJHKH'\n",
      "all good in finally\n",
      "KHKH\n",
      "this is error invalid literal for int() with base 10: 'KHKH'\n",
      "all good in finally\n",
      "HHK\n",
      "this is error invalid literal for int() with base 10: 'HHK'\n",
      "all good in finally\n",
      "125\n",
      "all good in finally\n"
     ]
    }
   ],
   "source": [
    "askInt()"
   ]
  },
  {
   "cell_type": "code",
   "execution_count": 9,
   "id": "09ac2399",
   "metadata": {},
   "outputs": [
    {
     "data": {
      "text/plain": [
       "0.5"
      ]
     },
     "execution_count": 9,
     "metadata": {},
     "output_type": "execute_result"
    }
   ],
   "source": [
    "5/10"
   ]
  },
  {
   "cell_type": "code",
   "execution_count": 10,
   "id": "36f2357a",
   "metadata": {},
   "outputs": [
    {
     "ename": "ZeroDivisionError",
     "evalue": "division by zero",
     "output_type": "error",
     "traceback": [
      "\u001b[1;31m---------------------------------------------------------------------------\u001b[0m",
      "\u001b[1;31mZeroDivisionError\u001b[0m                         Traceback (most recent call last)",
      "\u001b[1;32m~\\AppData\\Local\\Temp/ipykernel_14228/530406163.py\u001b[0m in \u001b[0;36m<module>\u001b[1;34m\u001b[0m\n\u001b[1;32m----> 1\u001b[1;33m \u001b[1;36m10\u001b[0m\u001b[1;33m/\u001b[0m\u001b[1;36m0\u001b[0m\u001b[1;33m\u001b[0m\u001b[1;33m\u001b[0m\u001b[0m\n\u001b[0m",
      "\u001b[1;31mZeroDivisionError\u001b[0m: division by zero"
     ]
    }
   ],
   "source": [
    "10/0"
   ]
  },
  {
   "cell_type": "code",
   "execution_count": 11,
   "id": "b34f689a",
   "metadata": {},
   "outputs": [
    {
     "data": {
      "text/plain": [
       "0.0"
      ]
     },
     "execution_count": 11,
     "metadata": {},
     "output_type": "execute_result"
    }
   ],
   "source": [
    "0/10"
   ]
  },
  {
   "cell_type": "code",
   "execution_count": 12,
   "id": "a18241b8",
   "metadata": {},
   "outputs": [],
   "source": [
    "def raiseexception(a):\n",
    "    if a <5 :\n",
    "        raise Exception(\"this is my custome msg \",a)\n",
    "    return a"
   ]
  },
  {
   "cell_type": "code",
   "execution_count": 17,
   "id": "5a57189e",
   "metadata": {},
   "outputs": [
    {
     "data": {
      "text/plain": [
       "9"
      ]
     },
     "execution_count": 17,
     "metadata": {},
     "output_type": "execute_result"
    }
   ],
   "source": [
    "raiseexception(9)"
   ]
  },
  {
   "cell_type": "code",
   "execution_count": 18,
   "id": "3d224422",
   "metadata": {},
   "outputs": [
    {
     "name": "stdout",
     "output_type": "stream",
     "text": [
      "('this is my custome msg ', 4)\n"
     ]
    }
   ],
   "source": [
    "try:\n",
    "    raiseexception(4)\n",
    "except Exception as e :\n",
    "    print(e)"
   ]
  },
  {
   "cell_type": "code",
   "execution_count": 19,
   "id": "7c19077b",
   "metadata": {},
   "outputs": [
    {
     "data": {
      "text/plain": [
       "'task 1 - Write a program to insert integer into a list and if user has\\nentered lesser then 4 then raise your own exceptoin with custome msg \\nand if user is not entering an integer then keep asking user to \\ninter int all the time , you are suppose to enter 10 such int with \\nthis condition '"
      ]
     },
     "execution_count": 19,
     "metadata": {},
     "output_type": "execute_result"
    }
   ],
   "source": [
    "\"\"\"task 1 - Write a program to insert integer into a list and if user has\n",
    "entered lesser then 4 then raise your own exceptoin with custome msg \n",
    "and if user is not entering an integer then keep asking user to \n",
    "inter int all the time , you are suppose to enter 10 such int with \n",
    "this condition \"\"\""
   ]
  },
  {
   "cell_type": "code",
   "execution_count": 20,
   "id": "30c3749c",
   "metadata": {},
   "outputs": [
    {
     "name": "stdout",
     "output_type": "stream",
     "text": [
      "Please input a interger value : GGJ\n",
      "Please input a interger value : GJGJ\n",
      "Please input a interger value : HJHJ\n",
      "Please input a interger value : 5\n",
      "Please input a interger value : 1\n",
      "Please enter a value more than or eqaul to 4\n",
      "Please input a interger value : 45\n",
      "Please input a interger value : 8789\n",
      "Please input a interger value : 45\n",
      "Please input a interger value : JHKH\n",
      "Please input a interger value : 123\n",
      "Please input a interger value : 456\n",
      "Please input a interger value : 78\n",
      "Please input a interger value : 56\n",
      "Please input a interger value : 98\n",
      "Please input a interger value : 32\n",
      "[5, 45, 8789, 45, 123, 456, 78, 56, 98, 32]\n"
     ]
    }
   ],
   "source": [
    "def listinput():\n",
    "    l=[]\n",
    "    for i in range(10):\n",
    "        while True:\n",
    "            try:\n",
    "                a = int(input(\"Please input a interger value : \"))\n",
    "            except:\n",
    "                continue\n",
    "            else:\n",
    "                try:\n",
    "                    if a<4:\n",
    "                        raise Exception(a)\n",
    "                    else:\n",
    "                        l.append(a)\n",
    "                        break\n",
    "                except:\n",
    "                    print('Please enter a value more than or eqaul to 4')\n",
    "    print(l)\n",
    "            \n",
    "listinput()"
   ]
  },
  {
   "cell_type": "code",
   "execution_count": 69,
   "id": "71a27e8d",
   "metadata": {},
   "outputs": [
    {
     "ename": "IndentationError",
     "evalue": "unexpected indent (Temp/ipykernel_14228/921422249.py, line 2)",
     "output_type": "error",
     "traceback": [
      "\u001b[1;36m  File \u001b[1;32m\"C:\\Users\\ranje\\AppData\\Local\\Temp/ipykernel_14228/921422249.py\"\u001b[1;36m, line \u001b[1;32m2\u001b[0m\n\u001b[1;33m    x.odd()\u001b[0m\n\u001b[1;37m    ^\u001b[0m\n\u001b[1;31mIndentationError\u001b[0m\u001b[1;31m:\u001b[0m unexpected indent\n"
     ]
    }
   ],
   "source": [
    "x=[12,45,43,11,39]\n",
    " x.odd()       \n",
    "    "
   ]
  },
  {
   "cell_type": "code",
   "execution_count": 78,
   "id": "cd8dc1f4",
   "metadata": {},
   "outputs": [],
   "source": [
    "def prime(num):\n",
    "    for i in range(2,num):\n",
    "        if num % i ==0 :\n",
    "            return 0\n",
    "            break\n",
    "        else:\n",
    "            return 1"
   ]
  },
  {
   "cell_type": "code",
   "execution_count": 82,
   "id": "72686473",
   "metadata": {},
   "outputs": [
    {
     "data": {
      "text/plain": [
       "1"
      ]
     },
     "execution_count": 82,
     "metadata": {},
     "output_type": "execute_result"
    }
   ],
   "source": [
    "prime(43)"
   ]
  },
  {
   "cell_type": "code",
   "execution_count": null,
   "id": "830c3f76",
   "metadata": {},
   "outputs": [],
   "source": []
  }
 ],
 "metadata": {
  "kernelspec": {
   "display_name": "Python 3 (ipykernel)",
   "language": "python",
   "name": "python3"
  },
  "language_info": {
   "codemirror_mode": {
    "name": "ipython",
    "version": 3
   },
   "file_extension": ".py",
   "mimetype": "text/x-python",
   "name": "python",
   "nbconvert_exporter": "python",
   "pygments_lexer": "ipython3",
   "version": "3.8.5"
  }
 },
 "nbformat": 4,
 "nbformat_minor": 5
}
